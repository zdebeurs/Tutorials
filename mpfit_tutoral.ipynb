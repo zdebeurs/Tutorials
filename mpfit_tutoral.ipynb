{
 "cells": [
  {
   "cell_type": "markdown",
   "metadata": {
    "id": "MT_eZwIqZM_b"
   },
   "source": [
    "# mpfit tutorial\n",
    "written by Zoe L de Beurs\n"
   ]
  },
  {
   "cell_type": "code",
   "execution_count": 23,
   "metadata": {
    "colab": {
     "base_uri": "https://localhost:8080/"
    },
    "id": "QB7tlXU3HtOG",
    "outputId": "6271f9db-6605-4ca7-bc2c-86600a428c8a"
   },
   "outputs": [],
   "source": [
    "# Download the mpfit.py script from Github: https://github.com/segasai/astrolibpy/blob/master/mpfit/mpfit.py\n",
    "# You do not need to pip install it or anything. Just download the mpfit.py script, place it in your working directory,\n",
    "# and it should work.\n"
   ]
  },
  {
   "cell_type": "code",
   "execution_count": 24,
   "metadata": {
    "id": "h5ySFlNPHzmM"
   },
   "outputs": [],
   "source": [
    "# import packages\n",
    "import numpy as np\n",
    "import matplotlib.pylab as plt\n",
    "from mpfit import mpfit"
   ]
  },
  {
   "cell_type": "code",
   "execution_count": 17,
   "metadata": {
    "id": "KKAhITysH1hF"
   },
   "outputs": [],
   "source": [
    "# Define the actual model function that describes the data you are fitting. As an example, we define a sine curve here.\n",
    "def func(x, p):\n",
    "    xc, xy, r, u = p\n",
    "    return p[0] + p[1] * np.sin(p[2]*x - p[3])"
   ]
  },
  {
   "cell_type": "code",
   "execution_count": 18,
   "metadata": {
    "id": "eQivvjofIBIy"
   },
   "outputs": [],
   "source": [
    "# Define a simple minimization function. This can be changed if you'd like.\n",
    "def least(p, args):\n",
    "    x, y = args\n",
    "    return func(x, p) - y"
   ]
  },
  {
   "cell_type": "code",
   "execution_count": 19,
   "metadata": {
    "id": "rrogltmZ8IYG"
   },
   "outputs": [],
   "source": [
    "# Define a function that passes that guesses for the parameters p and starts the search for the best-fit solution.\n",
    "# By default, MPFIT calculates derivatives numerically via a finite difference approximation. This can be changed. \n",
    "# See https://github.com/segasai/astrolibpy/blob/master/mpfit/mpfit.py for instructions on how to change this.\n",
    "\n",
    "def myfunct(p, fjac=None, x=None, y=None, err=None):\n",
    "    # Parameter values are passed in \"p\"\n",
    "    # If fjac==None then partial derivatives should not be\n",
    "    # computed.  It will always be None if MPFIT is called with default\n",
    "    # flag.\n",
    "    model = func(x, p)\n",
    "    # Non-negative status value means MPFIT should continue, negative means\n",
    "    # stop the calculation.\n",
    "    status = 0\n",
    "    return [status, (y-model)]"
   ]
  },
  {
   "cell_type": "code",
   "execution_count": 20,
   "metadata": {
    "colab": {
     "base_uri": "https://localhost:8080/"
    },
    "id": "HhjJhW3XIBu4",
    "outputId": "88274a2f-140c-4fdc-ddb4-333b00d58d3e"
   },
   "outputs": [
    {
     "name": "stdout",
     "output_type": "stream",
     "text": [
      "Iter       1    CHI-SQUARE =  30.15798012  DOF =  26\n",
      "   P0 = 1  \n",
      "   P1 = 1  \n",
      "   P2 = 0.1  \n",
      "   P3 = 1  \n",
      "Iter       2    CHI-SQUARE =  1.85443631  DOF =  26\n",
      "   P0 = 1.019711421  \n",
      "   P1 = 1.293391199  \n",
      "   P2 = 0.2295541133  \n",
      "   P3 = 0.4001013939  \n",
      "Iter       3    CHI-SQUARE =  0.1729647241  DOF =  26\n",
      "   P0 = 0.9501648303  \n",
      "   P1 = 1.449718171  \n",
      "   P2 = 0.2024086789  \n",
      "   P3 = 0.4752107727  \n",
      "Iter       4    CHI-SQUARE =  0.06161513337  DOF =  26\n",
      "   P0 = 1.00327587  \n",
      "   P1 = 1.508976606  \n",
      "   P2 = 0.2012967299  \n",
      "   P3 = 0.4921713684  \n",
      "Iter       5    CHI-SQUARE =  0.0616025708  DOF =  26\n",
      "   P0 = 1.003699181  \n",
      "   P1 = 1.509292078  \n",
      "   P2 = 0.2012956449  \n",
      "   P3 = 0.4917606156  \n",
      "Iter       6    CHI-SQUARE =  0.06160256323  DOF =  26\n",
      "   P0 = 1.003692948  \n",
      "   P1 = 1.509292217  \n",
      "   P2 = 0.2012964787  \n",
      "   P3 = 0.49175629  \n",
      "Iter       7    CHI-SQUARE =  0.06160256317  DOF =  26\n",
      "   P0 = 1.003692869  \n",
      "   P1 = 1.509292153  \n",
      "   P2 = 0.2012964854  \n",
      "   P3 = 0.4917562211  \n",
      "Iter       8    CHI-SQUARE =  0.06160256317  DOF =  26\n",
      "   P0 = 1.003692868  \n",
      "   P1 = 1.509292152  \n",
      "   P2 = 0.2012964855  \n",
      "   P3 = 0.4917562202  \n"
     ]
    }
   ],
   "source": [
    "# Generate data. Change this to your actual data when fitting observations with a model.\n",
    "p = [1, 1.5, 0.2, 0.5]\n",
    "x = np.linspace(-20, 10, 30)\n",
    "y = func(x, p)\n",
    "\n",
    "# Add some Gaussian noise\n",
    "y += np.random.normal(0, 0.05, y.shape)\n",
    "\n",
    "# choose starting values for parameter you are trying to fit\n",
    "pstart = [1, 1, 0.1, 1]\n",
    "\n",
    "# choose step sizes for those parameters. These step sizes will need to be optimized for your specific parameters.\n",
    "# The size of the step sizes should be approximately the expected uncertainties on those parameters.\n",
    "parinfo = [{'fixed': False, 'step': 1e-3},\n",
    "           {'fixed': False, 'step': 1e-2},\n",
    "           {'fixed': False, 'step': 1e-3},\n",
    "           {'fixed': False, 'step': 1e-2}]\n",
    "\n",
    "fa = {'x':x, 'y':y,}\n",
    "\n",
    "# Run mpfit\n",
    "m = mpfit(myfunct, pstart, functkw=fa, parinfo=parinfo)\n"
   ]
  },
  {
   "cell_type": "code",
   "execution_count": 21,
   "metadata": {
    "colab": {
     "base_uri": "https://localhost:8080/"
    },
    "id": "XZbb5KXN-Joo",
    "outputId": "524ea91f-f9ef-4a26-a14c-e9204170592a"
   },
   "outputs": [
    {
     "data": {
      "text/plain": [
       "array([1.00369287, 1.50929215, 0.20129649, 0.49175622])"
      ]
     },
     "execution_count": 21,
     "metadata": {},
     "output_type": "execute_result"
    }
   ],
   "source": [
    "# extract the final parameters\n",
    "m.params"
   ]
  },
  {
   "cell_type": "code",
   "execution_count": 22,
   "metadata": {
    "colab": {
     "base_uri": "https://localhost:8080/",
     "height": 283
    },
    "id": "tXsK0lEJ_8vr",
    "outputId": "34d795c1-4422-48ea-eb82-b04775af00c4"
   },
   "outputs": [
    {
     "data": {
      "text/plain": [
       "[<matplotlib.lines.Line2D at 0x7fe7691aba00>]"
      ]
     },
     "execution_count": 22,
     "metadata": {},
     "output_type": "execute_result"
    },
    {
     "data": {
      "image/png": "[encoded data removed]",
      "text/plain": [
       "<Figure size 640x480 with 1 Axes>"
      ]
     },
     "metadata": {},
     "output_type": "display_data"
    }
   ],
   "source": [
    "# plot the resulting fit\n",
    "plt.plot(x, y, \".\")\n",
    "plt.plot(x, func(x, m.params))"
   ]
  },
  {
   "cell_type": "markdown",
   "metadata": {
    "id": "zWTUcqdmLGXZ"
   },
   "source": [
    "# Have fun!"
   ]
  }
 ],
 "metadata": {
  "colab": {
   "provenance": []
  },
  "kernelspec": {
   "display_name": "Python 3 (ipykernel)",
   "language": "python",
   "name": "python3"
  },
  "language_info": {
   "codemirror_mode": {
    "name": "ipython",
    "version": 3
   },
   "file_extension": ".py",
   "mimetype": "text/x-python",
   "name": "python",
   "nbconvert_exporter": "python",
   "pygments_lexer": "ipython3",
   "version": "3.8.16"
  }
 },
 "nbformat": 4,
 "nbformat_minor": 1
}
