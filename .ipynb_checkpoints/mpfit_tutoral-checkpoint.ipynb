{
 "cells": [
  {
   "cell_type": "markdown",
   "metadata": {
    "id": "MT_eZwIqZM_b"
   },
   "source": [
    "# mpfit tutorial\n",
    "written by Zoe L de Beurs\n"
   ]
  },
  {
   "cell_type": "code",
   "execution_count": null,
   "metadata": {
    "colab": {
     "base_uri": "https://localhost:8080/"
    },
    "id": "QB7tlXU3HtOG",
    "outputId": "6271f9db-6605-4ca7-bc2c-86600a428c8a"
   },
   "outputs": [
    {
     "name": "stdout",
     "output_type": "stream",
     "text": [
      "/content/astrolibpy/mpfit\n"
     ]
    }
   ],
   "source": [
    "# First install mpfit using these instructions: https://github.com/evertrol/mpyfit"
   ]
  },
  {
   "cell_type": "code",
   "execution_count": null,
   "metadata": {
    "id": "h5ySFlNPHzmM"
   },
   "outputs": [],
   "source": [
    "import numpy as np\n",
    "import matplotlib.pylab as plt\n",
    "from mpfit import mpfit"
   ]
  },
  {
   "cell_type": "code",
   "execution_count": null,
   "metadata": {
    "id": "KKAhITysH1hF"
   },
   "outputs": [],
   "source": [
    "# Define the actual function\n",
    "def func(x, p):\n",
    "    xc, xy, r, u = p\n",
    "    return p[0] + p[1] * np.sin(p[2]*x - p[3])"
   ]
  },
  {
   "cell_type": "markdown",
   "metadata": {
    "id": "VtYO_AqN-n4K"
   },
   "source": []
  },
  {
   "cell_type": "code",
   "execution_count": null,
   "metadata": {
    "id": "eQivvjofIBIy"
   },
   "outputs": [],
   "source": [
    "# A simple minimization function:\n",
    "def least(p, args):\n",
    "    x, y = args\n",
    "    return func(x, p) - y"
   ]
  },
  {
   "cell_type": "code",
   "execution_count": null,
   "metadata": {
    "id": "rrogltmZ8IYG"
   },
   "outputs": [],
   "source": [
    "def myfunct(p, fjac=None, x=None, y=None, err=None):\n",
    "\t# Parameter values are passed in \"p\"\n",
    "\t# If fjac==None then partial derivatives should not be\n",
    "\t# computed.  It will always be None if MPFIT is called with default\n",
    "\t# flag.\n",
    "\tmodel = func(x, p)\n",
    "\t# Non-negative status value means MPFIT should continue, negative means\n",
    "\t# stop the calculation.\n",
    "\tstatus = 0\n",
    "\treturn [status, (y-model)]"
   ]
  },
  {
   "cell_type": "code",
   "execution_count": null,
   "metadata": {
    "colab": {
     "base_uri": "https://localhost:8080/"
    },
    "id": "HhjJhW3XIBu4",
    "outputId": "88274a2f-140c-4fdc-ddb4-333b00d58d3e"
   },
   "outputs": [
    {
     "name": "stdout",
     "output_type": "stream",
     "text": [
      "Iter       1    CHI-SQUARE =  29.74477441  DOF =  26\n",
      "   P0 = 1  \n",
      "   P1 = 1  \n",
      "   P2 = 0.1  \n",
      "   P3 = 1  \n",
      "Iter       2    CHI-SQUARE =  2.104941909  DOF =  26\n",
      "   P0 = 1.053254586  \n",
      "   P1 = 1.339104671  \n",
      "   P2 = 0.2269931806  \n",
      "   P3 = 0.4187572611  \n",
      "Iter       3    CHI-SQUARE =  0.1473312038  DOF =  26\n",
      "   P0 = 0.9549266233  \n",
      "   P1 = 1.459758301  \n",
      "   P2 = 0.2009328549  \n",
      "   P3 = 0.4855491586  \n",
      "Iter       4    CHI-SQUARE =  0.05488607464  DOF =  26\n",
      "   P0 = 1.007186281  \n",
      "   P1 = 1.519011271  \n",
      "   P2 = 0.1992241964  \n",
      "   P3 = 0.5048401055  \n",
      "Iter       5    CHI-SQUARE =  0.05486348038  DOF =  26\n",
      "   P0 = 1.007863405  \n",
      "   P1 = 1.519562854  \n",
      "   P2 = 0.1992254492  \n",
      "   P3 = 0.5044906988  \n",
      "Iter       6    CHI-SQUARE =  0.05486345966  DOF =  26\n",
      "   P0 = 1.007854282  \n",
      "   P1 = 1.519560675  \n",
      "   P2 = 0.1992266174  \n",
      "   P3 = 0.5044845032  \n",
      "Iter       7    CHI-SQUARE =  0.05486345962  DOF =  26\n",
      "   P0 = 1.007854223  \n",
      "   P1 = 1.519560611  \n",
      "   P2 = 0.1992266198  \n",
      "   P3 = 0.5044844263  \n",
      "Iter       8    CHI-SQUARE =  0.05486345961  DOF =  26\n",
      "   P0 = 1.007854221  \n",
      "   P1 = 1.51956061  \n",
      "   P2 = 0.19922662  \n",
      "   P3 = 0.504484425  \n"
     ]
    }
   ],
   "source": [
    "# Generate data\n",
    "p = [1, 1.5, 0.2, 0.5]\n",
    "x = np.linspace(-20, 10, 30)\n",
    "y = func(x, p)\n",
    "# Add some noise\n",
    "y += np.random.normal(0, 0.05, y.shape)\n",
    "\n",
    "# choose starting values for parameter you are trying to fit\n",
    "pstart = [1, 1, 0.1, 1]\n",
    "\n",
    "# choose step sizes for those parameters\n",
    "parinfo = [{'fixed': False, 'step': 1e-3},\n",
    "           {'fixed': False, 'step': 1e-2},\n",
    "           {'fixed': False, 'step': 1e-3},\n",
    "           {'fixed': False, 'step': 1e-2}]\n",
    "\n",
    "fa = {'x':x, 'y':y,}\n",
    "m = mpfit(myfunct, pstart, functkw=fa, parinfo=parinfo)\n",
    "\n",
    "#pfit, results = mpyfit.fit(least, pstart, (x, y), parinfo)"
   ]
  },
  {
   "cell_type": "code",
   "execution_count": null,
   "metadata": {
    "colab": {
     "base_uri": "https://localhost:8080/"
    },
    "id": "XZbb5KXN-Joo",
    "outputId": "524ea91f-f9ef-4a26-a14c-e9204170592a"
   },
   "outputs": [
    {
     "data": {
      "text/plain": [
       "array([1.00785422, 1.51956061, 0.19922662, 0.50448442])"
      ]
     },
     "execution_count": 14,
     "metadata": {},
     "output_type": "execute_result"
    }
   ],
   "source": [
    "m.params"
   ]
  },
  {
   "cell_type": "code",
   "execution_count": null,
   "metadata": {
    "colab": {
     "base_uri": "https://localhost:8080/",
     "height": 283
    },
    "id": "tXsK0lEJ_8vr",
    "outputId": "34d795c1-4422-48ea-eb82-b04775af00c4"
   },
   "outputs": [
    {
     "data": {
      "text/plain": [
       "[<matplotlib.lines.Line2D at 0x7f077bc42150>]"
      ]
     },
     "execution_count": 15,
     "metadata": {},
     "output_type": "execute_result"
    },
    {
     "data": {
      "image/png": "[encoded data removed]",
      "text/plain": [
       "<Figure size 432x288 with 1 Axes>"
      ]
     },
     "metadata": {
      "needs_background": "light"
     },
     "output_type": "display_data"
    }
   ],
   "source": [
    "plt.plot(x, y, \".\")\n",
    "plt.plot(x, func(x, m.params))"
   ]
  },
  {
   "cell_type": "code",
   "execution_count": null,
   "metadata": {
    "id": "zWTUcqdmLGXZ"
   },
   "outputs": [],
   "source": []
  }
 ],
 "metadata": {
  "colab": {
   "provenance": []
  },
  "kernelspec": {
   "display_name": "Python 3 (ipykernel)",
   "language": "python",
   "name": "python3"
  },
  "language_info": {
   "codemirror_mode": {
    "name": "ipython",
    "version": 3
   },
   "file_extension": ".py",
   "mimetype": "text/x-python",
   "name": "python",
   "nbconvert_exporter": "python",
   "pygments_lexer": "ipython3",
   "version": "3.8.16"
  }
 },
 "nbformat": 4,
 "nbformat_minor": 1
}
